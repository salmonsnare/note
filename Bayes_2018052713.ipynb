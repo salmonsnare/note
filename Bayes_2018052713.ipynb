{
 "cells": [
  {
   "cell_type": "markdown",
   "metadata": {},
   "source": [
    "# ベイズ統計の勉強 \n",
    "作成者: 沖 忠親 (2018/05/27)\n",
    "\n",
    "[2008 小西 et al.] を参考にしてベイズ統計の勉強を記録する。\n",
    "\n",
    "サイコロを投げる試行を考える。\n",
    "\n",
    "サイコロの目が $2 * j - 1 \\le i \\le 2 * j\\ (1 \\le j \\le 3)$ となる事象を $A_i$ とおくと、$Pr(A_i) = 2/6 = 1/3$ である。 \n",
    "\n",
    "偶数が出る事象を $B$ とおき、$Pr(B) = 3/6 = 1/2$ である。\n",
    "\n",
    "ここで、$A_i$ が起きたときの $B$ の条件付き確率を $Pr(B | A_i)$とおくと、$Pr(B | A_i) = Pr(B \\cap A_i)/Pr(A_i) = 1/6/(1/3) = 1/6 * 3 = 1/2$ である。\n",
    "\n",
    "Python のコードで書くと、"
   ]
  },
  {
   "cell_type": "code",
   "execution_count": 2,
   "metadata": {},
   "outputs": [
    {
     "name": "stdout",
     "output_type": "stream",
     "text": [
      "1/2\n",
      "1/2\n",
      "1/2\n"
     ]
    }
   ],
   "source": [
    "from fractions import Fraction\n",
    "\n",
    "pr_a = [Fraction(1, 3),  Fraction(1, 3), Fraction(1, 3)]\n",
    "pr_b = Fraction(1, 2)\n",
    "\n",
    "# A_i の添字 i を指定して、$Pr(B | A_i)$ を返す関数。\n",
    "def pr_b_cond_ai(i):\n",
    "    pr_b_cap_ai = pr_b * pr_a[i]\n",
    "    return pr_b_cap_ai / pr_a[i]\n",
    "\n",
    "for i in range(3):\n",
    "    print(pr_b_cond_ai(i))"
   ]
  },
  {
   "cell_type": "markdown",
   "metadata": {},
   "source": [
    "## ベイズの定理\n",
    "全体集合を $\\Omega$ とおき、$\\bigcup_{i = 1}^n A_i = \\Omega$ であるような独立な事象 $A_i\\ (1 \\le i \\le n)$ を考えたとき、下記の式をベイズの定理 とよぶ。 \n",
    "    \n",
    "$$\n",
    "Pr(A_i|B) = \\frac{Pr(B | A_i) * Pr(A_i)}{\\sum_{j = 1}^n Pr(B | A_i) Pr(A_j)}\n",
    "$$\n",
    "\n",
    "e.g., 上記のサイコロを投げる試行にあてはめると、下記のようになる。\n",
    "$$\n",
    "Pr(A_i|B) = \\frac{Pr(B | A_i) * Pr(A_i)}{\\sum_{j = 1}^3 Pr(B | A_i) Pr(A_j)} \n",
    "          = \\frac{1/2 * 1/3}{(1/2 *  1/3) * 3} \n",
    "          = 1/3\n",
    "$$\n",
    "\n",
    "Python のコードで書くと、"
   ]
  },
  {
   "cell_type": "code",
   "execution_count": 3,
   "metadata": {},
   "outputs": [
    {
     "name": "stdout",
     "output_type": "stream",
     "text": [
      "1/3\n",
      "1/3\n",
      "1/3\n"
     ]
    }
   ],
   "source": [
    "# A_i の添字 i を指定して、$Pr(Ai | B)$ を返す関数。\n",
    "def pr_ai_cond_b(i):\n",
    "    sum_var = 0\n",
    "    for i in range(len(pr_a)):\n",
    "        sum_var += pr_b_cond_ai(i)\n",
    "    return  pr_b_cond_ai(i) / sum_var\n",
    "\n",
    "for i in range(3):\n",
    "    print(pr_ai_cond_b(i))"
   ]
  },
  {
   "cell_type": "markdown",
   "metadata": {},
   "source": [
    "参考文献\n",
    "\n",
    "[2008 小西 et al.] 小西 et al., 計算統計学の方法 ―ブートストラップ・EM・アルゴリズム・MCMC―, 朝倉書店, 2008."
   ]
  }
 ],
 "metadata": {
  "kernelspec": {
   "display_name": "Python 3",
   "language": "python",
   "name": "python3"
  },
  "language_info": {
   "codemirror_mode": {
    "name": "ipython",
    "version": 3
   },
   "file_extension": ".py",
   "mimetype": "text/x-python",
   "name": "python",
   "nbconvert_exporter": "python",
   "pygments_lexer": "ipython3",
   "version": "3.6.4"
  }
 },
 "nbformat": 4,
 "nbformat_minor": 2
}
